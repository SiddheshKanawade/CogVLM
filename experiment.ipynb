{
 "cells": [
  {
   "cell_type": "code",
   "execution_count": 46,
   "metadata": {},
   "outputs": [
    {
     "data": {
      "text/plain": [
       "['q1',\n",
       " 'q2',\n",
       " 'q3',\n",
       " 'q4',\n",
       " 'q5',\n",
       " 'q6',\n",
       " 'q7',\n",
       " 'q8',\n",
       " 'q9',\n",
       " 'q10',\n",
       " 'q11',\n",
       " 'q12',\n",
       " 'q13',\n",
       " 'q14',\n",
       " 'q15',\n",
       " 'q16',\n",
       " 'q17',\n",
       " 'q18',\n",
       " 'q19',\n",
       " 'q20',\n",
       " 'q21',\n",
       " 'q22',\n",
       " 'q23']"
      ]
     },
     "execution_count": 46,
     "metadata": {},
     "output_type": "execute_result"
    }
   ],
   "source": [
    "import json\n",
    "\n",
    "path = \"./questions.json\"\n",
    "\n",
    "data = dict(json.load(open(path)))\n",
    "list(data.keys())"
   ]
  },
  {
   "cell_type": "code",
   "execution_count": 53,
   "metadata": {},
   "outputs": [
    {
     "data": {
      "text/plain": [
       "'1. wind\\n2. hail\\n3. heavy rain\\n4. snow\\n5. Debris\\n6. tornado damage\\n7. humidity damasge\\n8. improper installation\\n9. clogged drains or gutters\\n'"
      ]
     },
     "execution_count": 53,
     "metadata": {},
     "output_type": "execute_result"
    }
   ],
   "source": [
    "    \"\"\"1. wind\n",
    "2. hail\n",
    "3. heavy rain\n",
    "4. snow\n",
    "5. Debris\n",
    "6. tornado damage\n",
    "7. humidity damasge\n",
    "8. improper installation\n",
    "9. clogged drains or gutters\n",
    "    \"\"\""
   ]
  },
  {
   "cell_type": "code",
   "execution_count": 54,
   "metadata": {},
   "outputs": [],
   "source": [
    "words = '1. wind\\n2. hail\\n3. heavy rain\\n4. snow\\n5. Debris\\n6. tornado damage\\n7. humidity damasge\\n8. improper installation\\n9. clogged drains or gutters\\n'\n"
   ]
  },
  {
   "cell_type": "code",
   "execution_count": 55,
   "metadata": {},
   "outputs": [],
   "source": [
    "word_list = [word.strip().split('. ')[1] for word in words.split(\"\\n\") if word.strip() != \"\"]"
   ]
  },
  {
   "cell_type": "code",
   "execution_count": 56,
   "metadata": {},
   "outputs": [
    {
     "data": {
      "text/plain": [
       "['wind',\n",
       " 'hail',\n",
       " 'heavy rain',\n",
       " 'snow',\n",
       " 'Debris',\n",
       " 'tornado damage',\n",
       " 'humidity damasge',\n",
       " 'improper installation',\n",
       " 'clogged drains or gutters']"
      ]
     },
     "execution_count": 56,
     "metadata": {},
     "output_type": "execute_result"
    }
   ],
   "source": [
    "word_list"
   ]
  },
  {
   "cell_type": "code",
   "execution_count": 59,
   "metadata": {},
   "outputs": [
    {
     "name": "stdout",
     "output_type": "stream",
     "text": [
      "31 Does the roof image have wind type of damage?\n",
      "32 Does the roof image have hail type of damage?\n",
      "33 Does the roof image have heavy rain type of damage?\n",
      "34 Does the roof image have snow type of damage?\n",
      "35 Does the roof image have Debris type of damage?\n",
      "36 Does the roof image have tornado damage type of damage?\n",
      "37 Does the roof image have humidity damasge type of damage?\n",
      "38 Does the roof image have improper installation type of damage?\n",
      "39 Does the roof image have clogged drains or gutters type of damage?\n"
     ]
    }
   ],
   "source": [
    "path = \"./questions.json\"\n",
    "\n",
    "data = dict(json.load(open(path)))\n",
    "\n",
    "question_count=30\n",
    "\n",
    "for word in word_list:\n",
    "    question_count +=1\n",
    "    question = f\"Does the roof image have {word} type of damage?\"\n",
    "    print(question_count, question)\n",
    "    data[f\"q{question_count}\"] = question\n"
   ]
  },
  {
   "cell_type": "code",
   "execution_count": 60,
   "metadata": {},
   "outputs": [],
   "source": [
    "json_object = json.dumps(data, indent=4)\n",
    "\n",
    "with open(\"questions.json\", \"w\") as outfile:\n",
    "    outfile.write(json_object)"
   ]
  },
  {
   "cell_type": "code",
   "execution_count": null,
   "metadata": {},
   "outputs": [],
   "source": []
  },
  {
   "cell_type": "code",
   "execution_count": null,
   "metadata": {},
   "outputs": [],
   "source": []
  }
 ],
 "metadata": {
  "kernelspec": {
   "display_name": "practise",
   "language": "python",
   "name": "python3"
  },
  "language_info": {
   "codemirror_mode": {
    "name": "ipython",
    "version": 3
   },
   "file_extension": ".py",
   "mimetype": "text/x-python",
   "name": "python",
   "nbconvert_exporter": "python",
   "pygments_lexer": "ipython3",
   "version": "3.9.18"
  }
 },
 "nbformat": 4,
 "nbformat_minor": 2
}
